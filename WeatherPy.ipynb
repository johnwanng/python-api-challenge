{
 "metadata": {
  "language_info": {
   "codemirror_mode": {
    "name": "ipython",
    "version": 3
   },
   "file_extension": ".py",
   "mimetype": "text/x-python",
   "name": "python",
   "nbconvert_exporter": "python",
   "pygments_lexer": "ipython3",
   "version": "3.8.5-final"
  },
  "orig_nbformat": 2,
  "kernelspec": {
   "name": "python3",
   "display_name": "Python 3",
   "language": "python"
  }
 },
 "nbformat": 4,
 "nbformat_minor": 2,
 "cells": [
  {
   "cell_type": "code",
   "execution_count": 40,
   "metadata": {},
   "outputs": [
    {
     "output_type": "stream",
     "name": "stdout",
     "text": [
      "    Country  City   Latitude  Longitude Temperature (F) Humidity (%)  \\\n100      al  klos  41.484444  20.108056                                \n\n    Cloudiness (%) Wind Speed (mph)  \n100                                  \n41.484444399999994\n"
     ]
    }
   ],
   "source": [
    "\n",
    "# Dependencies and Setup\n",
    "import pandas as pd\n",
    "import os\n",
    "import matplotlib.pyplot as plt\n",
    "import requests\n",
    "from config import api_key\n",
    "import random \n",
    "\n",
    "# File to Load \n",
    "city_data_to_load = \"Resources/worldcities.csv\"\n",
    "\n",
    "# Read world cities and their lat and long and put them into Panda dataframe\n",
    "world_city_df = pd.read_csv(city_data_to_load)\n",
    "\n",
    "url = \"http://api.openweathermap.org/data/2.5/weather?\"\n",
    "units = \"metric\"\n",
    "\n",
    "# set up additional columns to hold information\n",
    "world_city_df['Temperature (F)'] = \"\"\n",
    "world_city_df['Humidity (%)'] = \"\"\n",
    "world_city_df['Cloudiness (%)'] = \"\"\n",
    "world_city_df['Wind Speed (mph)'] = \"\"\n",
    "\n",
    "print(world_city_df.iloc[[100]])\n",
    "\n",
    "print(world_city_df.iloc[100,world_city_df.columns.get_loc(\"Latitude\")])\n",
    "\n",
    "#world_city_df.iloc[100,world_city_df.columns.get_loc(\"Temperature (F)\")] = '123'\n",
    "\n",
    "#print(world_city_df.iloc[[100]])\n",
    "\n",
    "\n"
   ]
  },
  {
   "cell_type": "code",
   "execution_count": 13,
   "metadata": {},
   "outputs": [],
   "source": [
    "# Save config information.\n",
    "url = \"http://api.openweathermap.org/data/2.5/weather?\"\n",
    "units = \"imperial\"\n",
    "\n",
    "# Build partial query URL\n",
    "query_url = f\"{url}appid={api_key}&units={units}&q=\"\n",
    "\n",
    "i = 1\n",
    "# use iterrows to iterate through pandas dataframe\n",
    "while i < 600\n",
    "   # Get a random number from 0 to the total record from dataframe \n",
    "   n = random.randint(0,len(world_city_df)) \n",
    "   # Go to that particular row\n",
    "   city_df = world_city_df.iloc[[n]]\n",
    "   # Check to see if the city has already been processed \n",
    "   if city_df['Temperature (F)'] != \"\":\n",
    "        response = requests.get(query_url + city_df[\"City\"]).json()\n",
    "        if requests.head(url).status_code==200:\n",
    "            \n",
    "            world_city_df['Temperature (F)'] = response['main']['temp']\n",
    "            world_city_df['Humidity (%)'] = response['main']['humidity']\n",
    "            world_city_df['Cloudiness (%)'] = response['clouds']['all']\n",
    "            world_city_df['Wind Speed (mph)'] = response['wind']['speed']\n",
    "\n",
    "\n",
    "   i = i + 1\n",
    "   \n",
    "\n",
    "for index, row in world_city_df.iterrows():\n",
    "\n",
    "    # get cityname from df\n",
    "    city_name = row['City']\n",
    "    response = requests.get(query_url + city_name).json()\n",
    "    if requests.head(url).status_code==200:\n",
    "        world_city_df['Temperature (F)'] = response['main']['temp']\n",
    "        world_city_df['Humidity (%)'] = response['main']['humidity']\n",
    "        world_city_df['Cloudiness (%)'] = response['clouds']['all']\n",
    "        world_city_df['Wind Speed (mph)'] = response['wind']['speed']\n",
    "\n",
    "world_city_df"
   ]
  },
  {
   "cell_type": "code",
   "execution_count": null,
   "metadata": {},
   "outputs": [],
   "source": []
  }
 ]
}