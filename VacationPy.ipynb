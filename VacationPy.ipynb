{
 "metadata": {
  "language_info": {
   "codemirror_mode": {
    "name": "ipython",
    "version": 3
   },
   "file_extension": ".py",
   "mimetype": "text/x-python",
   "name": "python",
   "nbconvert_exporter": "python",
   "pygments_lexer": "ipython3",
   "version": "3.8.5-final"
  },
  "orig_nbformat": 2,
  "kernelspec": {
   "name": "python3",
   "display_name": "Python 3",
   "language": "python"
  }
 },
 "nbformat": 4,
 "nbformat_minor": 2,
 "cells": [
  {
   "cell_type": "code",
   "execution_count": 1,
   "metadata": {},
   "outputs": [
    {
     "output_type": "execute_result",
     "data": {
      "text/plain": [
       "    Country            City   Latitude   Longitude Hemisphere Processed  \\\n",
       "0        am          agarak  40.307778   44.284722          N         Y   \n",
       "1        am      aghavnatun  40.233611   44.251389          N         Y   \n",
       "2        am        mrgashen  40.285000   44.542222          N         Y   \n",
       "3        ao         caconda -13.733333   15.066667          S         Y   \n",
       "4        at  bad hofgastein  47.166667   13.100000          N         Y   \n",
       "..      ...             ...        ...         ...        ...       ...   \n",
       "595      us        culpeper  38.473056  -77.996944          N         Y   \n",
       "596      ws            pata -13.916667 -171.983333          S         Y   \n",
       "597      za        ekangala -25.696193   28.749183          S         Y   \n",
       "598      za      theunissen -28.410979   26.701068          S         Y   \n",
       "599      zm        kalengwa -13.466667   25.000000          S         Y   \n",
       "\n",
       "     Temperature (F)  Humidity (%)  Cloudiness (%)  Wind Speed (mph)  \n",
       "0              40.48            70             100              6.46  \n",
       "1              28.40            86              75              2.30  \n",
       "2              28.40            86              75              2.30  \n",
       "3              58.62            82             100              2.37  \n",
       "4              34.74            98              86              1.01  \n",
       "..               ...           ...             ...               ...  \n",
       "595            29.55            40               1             17.27  \n",
       "596            71.11            83              81              9.04  \n",
       "597            67.03            88             100              2.30  \n",
       "598            59.27            83              26             10.54  \n",
       "599            62.26            99              96              4.52  \n",
       "\n",
       "[600 rows x 10 columns]"
      ],
      "text/html": "<div>\n<style scoped>\n    .dataframe tbody tr th:only-of-type {\n        vertical-align: middle;\n    }\n\n    .dataframe tbody tr th {\n        vertical-align: top;\n    }\n\n    .dataframe thead th {\n        text-align: right;\n    }\n</style>\n<table border=\"1\" class=\"dataframe\">\n  <thead>\n    <tr style=\"text-align: right;\">\n      <th></th>\n      <th>Country</th>\n      <th>City</th>\n      <th>Latitude</th>\n      <th>Longitude</th>\n      <th>Hemisphere</th>\n      <th>Processed</th>\n      <th>Temperature (F)</th>\n      <th>Humidity (%)</th>\n      <th>Cloudiness (%)</th>\n      <th>Wind Speed (mph)</th>\n    </tr>\n  </thead>\n  <tbody>\n    <tr>\n      <th>0</th>\n      <td>am</td>\n      <td>agarak</td>\n      <td>40.307778</td>\n      <td>44.284722</td>\n      <td>N</td>\n      <td>Y</td>\n      <td>40.48</td>\n      <td>70</td>\n      <td>100</td>\n      <td>6.46</td>\n    </tr>\n    <tr>\n      <th>1</th>\n      <td>am</td>\n      <td>aghavnatun</td>\n      <td>40.233611</td>\n      <td>44.251389</td>\n      <td>N</td>\n      <td>Y</td>\n      <td>28.40</td>\n      <td>86</td>\n      <td>75</td>\n      <td>2.30</td>\n    </tr>\n    <tr>\n      <th>2</th>\n      <td>am</td>\n      <td>mrgashen</td>\n      <td>40.285000</td>\n      <td>44.542222</td>\n      <td>N</td>\n      <td>Y</td>\n      <td>28.40</td>\n      <td>86</td>\n      <td>75</td>\n      <td>2.30</td>\n    </tr>\n    <tr>\n      <th>3</th>\n      <td>ao</td>\n      <td>caconda</td>\n      <td>-13.733333</td>\n      <td>15.066667</td>\n      <td>S</td>\n      <td>Y</td>\n      <td>58.62</td>\n      <td>82</td>\n      <td>100</td>\n      <td>2.37</td>\n    </tr>\n    <tr>\n      <th>4</th>\n      <td>at</td>\n      <td>bad hofgastein</td>\n      <td>47.166667</td>\n      <td>13.100000</td>\n      <td>N</td>\n      <td>Y</td>\n      <td>34.74</td>\n      <td>98</td>\n      <td>86</td>\n      <td>1.01</td>\n    </tr>\n    <tr>\n      <th>...</th>\n      <td>...</td>\n      <td>...</td>\n      <td>...</td>\n      <td>...</td>\n      <td>...</td>\n      <td>...</td>\n      <td>...</td>\n      <td>...</td>\n      <td>...</td>\n      <td>...</td>\n    </tr>\n    <tr>\n      <th>595</th>\n      <td>us</td>\n      <td>culpeper</td>\n      <td>38.473056</td>\n      <td>-77.996944</td>\n      <td>N</td>\n      <td>Y</td>\n      <td>29.55</td>\n      <td>40</td>\n      <td>1</td>\n      <td>17.27</td>\n    </tr>\n    <tr>\n      <th>596</th>\n      <td>ws</td>\n      <td>pata</td>\n      <td>-13.916667</td>\n      <td>-171.983333</td>\n      <td>S</td>\n      <td>Y</td>\n      <td>71.11</td>\n      <td>83</td>\n      <td>81</td>\n      <td>9.04</td>\n    </tr>\n    <tr>\n      <th>597</th>\n      <td>za</td>\n      <td>ekangala</td>\n      <td>-25.696193</td>\n      <td>28.749183</td>\n      <td>S</td>\n      <td>Y</td>\n      <td>67.03</td>\n      <td>88</td>\n      <td>100</td>\n      <td>2.30</td>\n    </tr>\n    <tr>\n      <th>598</th>\n      <td>za</td>\n      <td>theunissen</td>\n      <td>-28.410979</td>\n      <td>26.701068</td>\n      <td>S</td>\n      <td>Y</td>\n      <td>59.27</td>\n      <td>83</td>\n      <td>26</td>\n      <td>10.54</td>\n    </tr>\n    <tr>\n      <th>599</th>\n      <td>zm</td>\n      <td>kalengwa</td>\n      <td>-13.466667</td>\n      <td>25.000000</td>\n      <td>S</td>\n      <td>Y</td>\n      <td>62.26</td>\n      <td>99</td>\n      <td>96</td>\n      <td>4.52</td>\n    </tr>\n  </tbody>\n</table>\n<p>600 rows × 10 columns</p>\n</div>"
     },
     "metadata": {},
     "execution_count": 1
    }
   ],
   "source": [
    "# Dependencies and Setup\n",
    "import gmaps\n",
    "import pandas as pd\n",
    "import os\n",
    "import matplotlib.pyplot as plt\n",
    "import requests\n",
    "from config import api_key\n",
    "import random \n",
    "import numpy as np\n",
    "import requests\n",
    "import json\n",
    "\n",
    "# Google developer API key\n",
    "from googleconfig import gkey\n",
    "\n",
    "# Access maps with unique API key\n",
    "gmaps.configure(api_key=gkey)\n",
    "\n",
    "# File to Load \n",
    "cityResult = \"Resources/cityWeatherResult.csv\"\n",
    "\n",
    "# Read cities result and put them into Panda dataframe\n",
    "cityResult_df = pd.read_csv(cityResult)\n",
    "\n",
    "cityResult_df"
   ]
  },
  {
   "cell_type": "code",
   "execution_count": 2,
   "metadata": {},
   "outputs": [
    {
     "output_type": "display_data",
     "data": {
      "text/plain": "Figure(layout=FigureLayout(height='420px'))",
      "application/vnd.jupyter.widget-view+json": {
       "version_major": 2,
       "version_minor": 0,
       "model_id": "466cb2e6e53640ba8180e1d5d4aac7bb"
      }
     },
     "metadata": {}
    }
   ],
   "source": [
    "gmaps.configure(api_key=gkey)\n",
    "\n",
    "# Store 'Latitude' and 'Longitude' into coordinates \n",
    "coordinates = cityResult_df[[\"Latitude\", \"Longitude\"]].astype(float)\n",
    "\n",
    "# Convert Humdity to float and store\n",
    "# HINT: be sure to handle NaN values\n",
    "cityResult_df = cityResult_df.dropna()\n",
    "humidity_percentage = cityResult_df[\"Humidity (%)\"].astype(float)\n",
    "\n",
    "# Create a humdity % Heatmap layer\n",
    "fig = gmaps.figure()\n",
    "heat_layer = gmaps.heatmap_layer(coordinates, weights=humidity_percentage, dissipating=False, max_intensity=100,point_radius = 1)\n",
    "fig.add_layer(heat_layer)\n",
    "fig"
   ]
  },
  {
   "cell_type": "code",
   "execution_count": 3,
   "metadata": {},
   "outputs": [
    {
     "output_type": "stream",
     "name": "stdout",
     "text": [
      "Missing field/result... skipping.\n"
     ]
    }
   ],
   "source": [
    "# Create column to store closing hotel name\n",
    "cityResult_df[\"Closest Hotel Name\"] = \"\"\n",
    "\n",
    "# find the closest Hotel for each ideal city within 5 kilometres radius\n",
    "params = {\n",
    "    \"radius\": 5000,\n",
    "    \"types\": \"hotel\",\n",
    "    \"keyword\": \"hotel\",\n",
    "    \"key\": gkey\n",
    "}\n",
    "\n",
    "# Use the search term: \"Hotel\" and our lat/lng\n",
    "base_url = \"https://maps.googleapis.com/maps/api/place/nearbysearch/json\"\n",
    "\n",
    "for index, row in cityResult_df.iterrows():\n",
    "       #Only process hotel info for Ideal cities where their Temp > 70 and < 80, wind speed < 10, cloudiness = 0 and humidity < 70\n",
    "       if (row['Temperature (F)'] > 70) & (row['Temperature (F)'] < 80) & (row['Wind Speed (mph)'] < 10) & (row['Cloudiness (%)'] == 0) & (row['Humidity (%)'] < 70):\n",
    "            # get lat, lng from df\n",
    "            lat = row[\"Latitude\"]\n",
    "            lng = row[\"Longitude\"]\n",
    "\n",
    "            # change location each iteration while leaving original params in place\n",
    "            params[\"location\"] = f\"{lat},{lng}\"\n",
    "\n",
    "            # make request \n",
    "            hotel_address = requests.get(base_url, params=params)\n",
    "            \n",
    "            #     print the name_address url, avoid doing for public github repos in order to avoid exposing key\n",
    "            #     print(name_address.url)\n",
    "\n",
    "            # convert to json\n",
    "            hotel_address = hotel_address.json()\n",
    "            # print(json.dumps(name_address, indent=4, sort_keys=True))\n",
    "\n",
    "            # Since some data may be missing we incorporate a try-except to skip any that are missing a data point.\n",
    "            try:\n",
    "                cityResult_df.loc[index, \"Closest Hotel Name\"] = hotel_address[\"results\"][0][\"name\"]\n",
    "            except (KeyError, IndexError):\n",
    "                print(\"Missing field/result... skipping.\")\n"
   ]
  },
  {
   "cell_type": "code",
   "execution_count": 5,
   "metadata": {},
   "outputs": [
    {
     "output_type": "execute_result",
     "data": {
      "text/plain": [
       "    Country       City   Latitude  Longitude Hemisphere Processed  \\\n",
       "89       co   silvania   4.403671 -74.386700          N         Y   \n",
       "185      gt  el palmar  14.650000 -91.583333          N         Y   \n",
       "293      ml      kayes  14.450000 -11.433333          N         Y   \n",
       "521      tg  sotouboua   8.566667   0.983333          N         Y   \n",
       "\n",
       "     Temperature (F)  Humidity (%)  Cloudiness (%)  Wind Speed (mph)  \\\n",
       "89             70.57            68               0              5.75   \n",
       "185            70.70            65               0              6.91   \n",
       "293            71.15            17               0              4.29   \n",
       "521            77.00            33               0              2.62   \n",
       "\n",
       "              Closest Hotel Name  \n",
       "89       Primavera Azul Glamping  \n",
       "185  Hotel y Bungalows El Jardín  \n",
       "293       Hôtel Kamankole Palace  \n",
       "521            Auberge le Verger  "
      ],
      "text/html": "<div>\n<style scoped>\n    .dataframe tbody tr th:only-of-type {\n        vertical-align: middle;\n    }\n\n    .dataframe tbody tr th {\n        vertical-align: top;\n    }\n\n    .dataframe thead th {\n        text-align: right;\n    }\n</style>\n<table border=\"1\" class=\"dataframe\">\n  <thead>\n    <tr style=\"text-align: right;\">\n      <th></th>\n      <th>Country</th>\n      <th>City</th>\n      <th>Latitude</th>\n      <th>Longitude</th>\n      <th>Hemisphere</th>\n      <th>Processed</th>\n      <th>Temperature (F)</th>\n      <th>Humidity (%)</th>\n      <th>Cloudiness (%)</th>\n      <th>Wind Speed (mph)</th>\n      <th>Closest Hotel Name</th>\n    </tr>\n  </thead>\n  <tbody>\n    <tr>\n      <th>89</th>\n      <td>co</td>\n      <td>silvania</td>\n      <td>4.403671</td>\n      <td>-74.386700</td>\n      <td>N</td>\n      <td>Y</td>\n      <td>70.57</td>\n      <td>68</td>\n      <td>0</td>\n      <td>5.75</td>\n      <td>Primavera Azul Glamping</td>\n    </tr>\n    <tr>\n      <th>185</th>\n      <td>gt</td>\n      <td>el palmar</td>\n      <td>14.650000</td>\n      <td>-91.583333</td>\n      <td>N</td>\n      <td>Y</td>\n      <td>70.70</td>\n      <td>65</td>\n      <td>0</td>\n      <td>6.91</td>\n      <td>Hotel y Bungalows El Jardín</td>\n    </tr>\n    <tr>\n      <th>293</th>\n      <td>ml</td>\n      <td>kayes</td>\n      <td>14.450000</td>\n      <td>-11.433333</td>\n      <td>N</td>\n      <td>Y</td>\n      <td>71.15</td>\n      <td>17</td>\n      <td>0</td>\n      <td>4.29</td>\n      <td>Hôtel Kamankole Palace</td>\n    </tr>\n    <tr>\n      <th>521</th>\n      <td>tg</td>\n      <td>sotouboua</td>\n      <td>8.566667</td>\n      <td>0.983333</td>\n      <td>N</td>\n      <td>Y</td>\n      <td>77.00</td>\n      <td>33</td>\n      <td>0</td>\n      <td>2.62</td>\n      <td>Auberge le Verger</td>\n    </tr>\n  </tbody>\n</table>\n</div>"
     },
     "metadata": {},
     "execution_count": 5
    }
   ],
   "source": [
    "hotelCityDf = cityResult_df[(cityResult_df['Closest Hotel Name'] !=\"\")]\n",
    "\n",
    "hotelCityDf\n",
    "#hotelName = cityResult_df[\"Closest Hotel Name\"].tolist()\n"
   ]
  },
  {
   "cell_type": "code",
   "execution_count": 6,
   "metadata": {},
   "outputs": [
    {
     "output_type": "display_data",
     "data": {
      "text/plain": "Figure(layout=FigureLayout(height='420px'))",
      "application/vnd.jupyter.widget-view+json": {
       "version_major": 2,
       "version_minor": 0,
       "model_id": "e87acaa2032140fd8371ec58a045ce8a"
      }
     },
     "metadata": {}
    }
   ],
   "source": [
    "# Convert Hotel Names to list\n",
    "hotelName = hotelCityDf[\"Closest Hotel Name\"].tolist()\n",
    "# Convert City Names to list\n",
    "hotelCity = hotelCityDf[\"City\"].tolist()\n",
    "# Convert Country to list\n",
    "hotelCountry = hotelCityDf[\"Country\"].tolist()\n",
    "hotelCoordinates = hotelCityDf[[\"Latitude\", \"Longitude\"]].astype(float)\n",
    "\n",
    "\n",
    "# Create hotel symbol layer\n",
    "hotelLayer = gmaps.symbol_layer(\n",
    "    hotelCoordinates, fill_color='rgba(0, 150, 0, 0.4)',\n",
    "    stroke_color='rgba(0, 0, 150, 0.4)', scale=5,\n",
    "    info_box_content=[f\"<b>Hotel name:</b> <br> {hotel} <br> <b>City:</b> <br> {city}  <br> <b>Country:</b> <br> {country} \" for hotel,city,country in zip(hotelName,hotelCity,hotelCountry)]\n",
    ")\n",
    "\n",
    "# Create a combined map\n",
    "fig = gmaps.figure()\n",
    "\n",
    "fig.add_layer(heat_layer)\n",
    "fig.add_layer(hotelLayer)\n",
    "fig"
   ]
  },
  {
   "cell_type": "code",
   "execution_count": null,
   "metadata": {},
   "outputs": [],
   "source": []
  }
 ]
}