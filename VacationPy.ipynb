{
 "metadata": {
  "language_info": {
   "codemirror_mode": {
    "name": "ipython",
    "version": 3
   },
   "file_extension": ".py",
   "mimetype": "text/x-python",
   "name": "python",
   "nbconvert_exporter": "python",
   "pygments_lexer": "ipython3",
   "version": "3.8.5-final"
  },
  "orig_nbformat": 2,
  "kernelspec": {
   "name": "python3",
   "display_name": "Python 3",
   "language": "python"
  }
 },
 "nbformat": 4,
 "nbformat_minor": 2,
 "cells": [
  {
   "cell_type": "code",
   "execution_count": 1,
   "metadata": {},
   "outputs": [
    {
     "output_type": "execute_result",
     "data": {
      "text/plain": [
       "    Country        City   Latitude   Longitude Hemisphere Processed  \\\n",
       "0        ag     liberta  17.033333  -61.783333          N         Y   \n",
       "1        am      arevik  40.100556   44.096944          N         Y   \n",
       "2        at      grodig  47.733333   13.033333          N         Y   \n",
       "3        at     koflach  47.066667   15.083333          N         Y   \n",
       "4        at  schladming  47.383333   13.683333          N         Y   \n",
       "..      ...         ...        ...         ...        ...       ...   \n",
       "595      vn    bien hoa  10.950000  106.816667          N         Y   \n",
       "596      vn     da nang  16.067778  108.220833          N         Y   \n",
       "597      vn    rach gia  10.016667  105.083333          N         Y   \n",
       "598      za     secunda -26.550000   29.166667          S         Y   \n",
       "599      zm      katete -14.050000   32.083333          S         Y   \n",
       "\n",
       "     Temperature (F)  Humidity (%)  Cloudiness (%)  Wind Speed (mph)  \n",
       "0              81.09            73              75              5.75  \n",
       "1              30.20            86             100              1.14  \n",
       "2              44.38            57              75             16.11  \n",
       "3              36.79            87              20              1.14  \n",
       "4              33.98            94             100              6.98  \n",
       "..               ...           ...             ...               ...  \n",
       "595            77.00            78              40              3.44  \n",
       "596            68.00            88              40              1.14  \n",
       "597            75.20            94              99              5.75  \n",
       "598            73.00            80              96              3.96  \n",
       "599            78.24            40              69              1.74  \n",
       "\n",
       "[600 rows x 10 columns]"
      ],
      "text/html": "<div>\n<style scoped>\n    .dataframe tbody tr th:only-of-type {\n        vertical-align: middle;\n    }\n\n    .dataframe tbody tr th {\n        vertical-align: top;\n    }\n\n    .dataframe thead th {\n        text-align: right;\n    }\n</style>\n<table border=\"1\" class=\"dataframe\">\n  <thead>\n    <tr style=\"text-align: right;\">\n      <th></th>\n      <th>Country</th>\n      <th>City</th>\n      <th>Latitude</th>\n      <th>Longitude</th>\n      <th>Hemisphere</th>\n      <th>Processed</th>\n      <th>Temperature (F)</th>\n      <th>Humidity (%)</th>\n      <th>Cloudiness (%)</th>\n      <th>Wind Speed (mph)</th>\n    </tr>\n  </thead>\n  <tbody>\n    <tr>\n      <th>0</th>\n      <td>ag</td>\n      <td>liberta</td>\n      <td>17.033333</td>\n      <td>-61.783333</td>\n      <td>N</td>\n      <td>Y</td>\n      <td>81.09</td>\n      <td>73</td>\n      <td>75</td>\n      <td>5.75</td>\n    </tr>\n    <tr>\n      <th>1</th>\n      <td>am</td>\n      <td>arevik</td>\n      <td>40.100556</td>\n      <td>44.096944</td>\n      <td>N</td>\n      <td>Y</td>\n      <td>30.20</td>\n      <td>86</td>\n      <td>100</td>\n      <td>1.14</td>\n    </tr>\n    <tr>\n      <th>2</th>\n      <td>at</td>\n      <td>grodig</td>\n      <td>47.733333</td>\n      <td>13.033333</td>\n      <td>N</td>\n      <td>Y</td>\n      <td>44.38</td>\n      <td>57</td>\n      <td>75</td>\n      <td>16.11</td>\n    </tr>\n    <tr>\n      <th>3</th>\n      <td>at</td>\n      <td>koflach</td>\n      <td>47.066667</td>\n      <td>15.083333</td>\n      <td>N</td>\n      <td>Y</td>\n      <td>36.79</td>\n      <td>87</td>\n      <td>20</td>\n      <td>1.14</td>\n    </tr>\n    <tr>\n      <th>4</th>\n      <td>at</td>\n      <td>schladming</td>\n      <td>47.383333</td>\n      <td>13.683333</td>\n      <td>N</td>\n      <td>Y</td>\n      <td>33.98</td>\n      <td>94</td>\n      <td>100</td>\n      <td>6.98</td>\n    </tr>\n    <tr>\n      <th>...</th>\n      <td>...</td>\n      <td>...</td>\n      <td>...</td>\n      <td>...</td>\n      <td>...</td>\n      <td>...</td>\n      <td>...</td>\n      <td>...</td>\n      <td>...</td>\n      <td>...</td>\n    </tr>\n    <tr>\n      <th>595</th>\n      <td>vn</td>\n      <td>bien hoa</td>\n      <td>10.950000</td>\n      <td>106.816667</td>\n      <td>N</td>\n      <td>Y</td>\n      <td>77.00</td>\n      <td>78</td>\n      <td>40</td>\n      <td>3.44</td>\n    </tr>\n    <tr>\n      <th>596</th>\n      <td>vn</td>\n      <td>da nang</td>\n      <td>16.067778</td>\n      <td>108.220833</td>\n      <td>N</td>\n      <td>Y</td>\n      <td>68.00</td>\n      <td>88</td>\n      <td>40</td>\n      <td>1.14</td>\n    </tr>\n    <tr>\n      <th>597</th>\n      <td>vn</td>\n      <td>rach gia</td>\n      <td>10.016667</td>\n      <td>105.083333</td>\n      <td>N</td>\n      <td>Y</td>\n      <td>75.20</td>\n      <td>94</td>\n      <td>99</td>\n      <td>5.75</td>\n    </tr>\n    <tr>\n      <th>598</th>\n      <td>za</td>\n      <td>secunda</td>\n      <td>-26.550000</td>\n      <td>29.166667</td>\n      <td>S</td>\n      <td>Y</td>\n      <td>73.00</td>\n      <td>80</td>\n      <td>96</td>\n      <td>3.96</td>\n    </tr>\n    <tr>\n      <th>599</th>\n      <td>zm</td>\n      <td>katete</td>\n      <td>-14.050000</td>\n      <td>32.083333</td>\n      <td>S</td>\n      <td>Y</td>\n      <td>78.24</td>\n      <td>40</td>\n      <td>69</td>\n      <td>1.74</td>\n    </tr>\n  </tbody>\n</table>\n<p>600 rows × 10 columns</p>\n</div>"
     },
     "metadata": {},
     "execution_count": 1
    }
   ],
   "source": [
    "# Dependencies and Setup\n",
    "import gmaps\n",
    "import pandas as pd\n",
    "import os\n",
    "import matplotlib.pyplot as plt\n",
    "import requests\n",
    "from config import api_key\n",
    "import random \n",
    "import numpy as np\n",
    "import requests\n",
    "import json\n",
    "\n",
    "# Google developer API key\n",
    "from googleconfig import gkey\n",
    "\n",
    "# Access maps with unique API key\n",
    "gmaps.configure(api_key=gkey)\n",
    "\n",
    "# File to Load \n",
    "cityResult = \"Resources/cityWeatherResult.csv\"\n",
    "\n",
    "# Read cities result and put them into Panda dataframe\n",
    "cityResult_df = pd.read_csv(cityResult)\n",
    "\n",
    "cityResult_df"
   ]
  },
  {
   "cell_type": "code",
   "execution_count": 2,
   "metadata": {},
   "outputs": [
    {
     "output_type": "display_data",
     "data": {
      "text/plain": "Figure(layout=FigureLayout(height='420px'))",
      "application/vnd.jupyter.widget-view+json": {
       "version_major": 2,
       "version_minor": 0,
       "model_id": "1042dc3d986d41e7812c4d5309d34e41"
      }
     },
     "metadata": {}
    }
   ],
   "source": [
    "gmaps.configure(api_key=gkey)\n",
    "\n",
    "# Store 'Latitude' and 'Longitude' into coordinates \n",
    "coordinates = cityResult_df[[\"Latitude\", \"Longitude\"]].astype(float)\n",
    "\n",
    "# Convert Humdity to float and store\n",
    "# HINT: be sure to handle NaN values\n",
    "cityResult_df = cityResult_df.dropna()\n",
    "humidity_percentage = cityResult_df[\"Humidity (%)\"].astype(float)\n",
    "\n",
    "# Create a humdity % Heatmap layer\n",
    "fig = gmaps.figure()\n",
    "heat_layer = gmaps.heatmap_layer(coordinates, weights=humidity_percentage, dissipating=False, max_intensity=100,point_radius = 1)\n",
    "fig.add_layer(heat_layer)\n",
    "fig"
   ]
  },
  {
   "cell_type": "code",
   "execution_count": null,
   "metadata": {},
   "outputs": [],
   "source": []
  },
  {
   "cell_type": "code",
   "execution_count": 6,
   "metadata": {},
   "outputs": [
    {
     "output_type": "stream",
     "name": "stdout",
     "text": [
      "Missing field/result... skipping.\n",
      "Missing field/result... skipping.\n"
     ]
    }
   ],
   "source": [
    "# Create column to store closing hotel name\n",
    "cityResult_df[\"Closest Hotel Name\"] = \"\"\n",
    "\n",
    "# find the closest Hotel for each ideal city within 5 kilometres radius\n",
    "params = {\n",
    "    \"radius\": 5000,\n",
    "    \"types\": \"hotel\",\n",
    "    \"keyword\": \"hotel\",\n",
    "    \"key\": gkey\n",
    "}\n",
    "\n",
    "# Use the search term: \"Hotel\" and our lat/lng\n",
    "base_url = \"https://maps.googleapis.com/maps/api/place/nearbysearch/json\"\n",
    "\n",
    "for index, row in cityResult_df.iterrows():\n",
    "       #Only process hotel info for Ideal cities where their Temp > 70 and < 80, wind speed < 10, cloudiness = 0 \n",
    "       if (row['Temperature (F)'] > 70) & (row['Temperature (F)'] < 80) & (row['Wind Speed (mph)'] < 10) & (row['Cloudiness (%)'] == 0):\n",
    "            # get lat, lng from df\n",
    "            lat = row[\"Latitude\"]\n",
    "            lng = row[\"Longitude\"]\n",
    "\n",
    "            # change location each iteration while leaving original params in place\n",
    "            params[\"location\"] = f\"{lat},{lng}\"\n",
    "\n",
    "            # make request \n",
    "            hotel_address = requests.get(base_url, params=params)\n",
    "            \n",
    "            #     print the name_address url, avoid doing for public github repos in order to avoid exposing key\n",
    "            #     print(name_address.url)\n",
    "\n",
    "            # convert to json\n",
    "            hotel_address = hotel_address.json()\n",
    "            # print(json.dumps(name_address, indent=4, sort_keys=True))\n",
    "\n",
    "            # Since some data may be missing we incorporate a try-except to skip any that are missing a data point.\n",
    "            try:\n",
    "                cityResult_df.loc[index, \"Closest Hotel Name\"] = hotel_address[\"results\"][0][\"name\"]\n",
    "            except (KeyError, IndexError):\n",
    "                print(\"Missing field/result... skipping.\")\n"
   ]
  },
  {
   "cell_type": "code",
   "execution_count": 7,
   "metadata": {},
   "outputs": [
    {
     "output_type": "execute_result",
     "data": {
      "text/plain": [
       "    Country          City   Latitude   Longitude Hemisphere Processed  \\\n",
       "319      pe        huaral -11.497500  -77.203333          S         Y   \n",
       "402      re  sainte-marie -20.883333   55.550000          S         Y   \n",
       "518      th       tha mai  12.621369  102.004805          N         Y   \n",
       "\n",
       "     Temperature (F)  Humidity (%)  Cloudiness (%)  Wind Speed (mph)  \\\n",
       "319            75.20            64               0              8.05   \n",
       "402            72.05            73               0              9.22   \n",
       "518            77.50            84               0              1.05   \n",
       "\n",
       "         Closest Hotel Name  \n",
       "319  Suite Hotel Las Dalias  \n",
       "402        Villa Hélèna B&B  \n",
       "518          Porkaew Resort  "
      ],
      "text/html": "<div>\n<style scoped>\n    .dataframe tbody tr th:only-of-type {\n        vertical-align: middle;\n    }\n\n    .dataframe tbody tr th {\n        vertical-align: top;\n    }\n\n    .dataframe thead th {\n        text-align: right;\n    }\n</style>\n<table border=\"1\" class=\"dataframe\">\n  <thead>\n    <tr style=\"text-align: right;\">\n      <th></th>\n      <th>Country</th>\n      <th>City</th>\n      <th>Latitude</th>\n      <th>Longitude</th>\n      <th>Hemisphere</th>\n      <th>Processed</th>\n      <th>Temperature (F)</th>\n      <th>Humidity (%)</th>\n      <th>Cloudiness (%)</th>\n      <th>Wind Speed (mph)</th>\n      <th>Closest Hotel Name</th>\n    </tr>\n  </thead>\n  <tbody>\n    <tr>\n      <th>319</th>\n      <td>pe</td>\n      <td>huaral</td>\n      <td>-11.497500</td>\n      <td>-77.203333</td>\n      <td>S</td>\n      <td>Y</td>\n      <td>75.20</td>\n      <td>64</td>\n      <td>0</td>\n      <td>8.05</td>\n      <td>Suite Hotel Las Dalias</td>\n    </tr>\n    <tr>\n      <th>402</th>\n      <td>re</td>\n      <td>sainte-marie</td>\n      <td>-20.883333</td>\n      <td>55.550000</td>\n      <td>S</td>\n      <td>Y</td>\n      <td>72.05</td>\n      <td>73</td>\n      <td>0</td>\n      <td>9.22</td>\n      <td>Villa Hélèna B&amp;B</td>\n    </tr>\n    <tr>\n      <th>518</th>\n      <td>th</td>\n      <td>tha mai</td>\n      <td>12.621369</td>\n      <td>102.004805</td>\n      <td>N</td>\n      <td>Y</td>\n      <td>77.50</td>\n      <td>84</td>\n      <td>0</td>\n      <td>1.05</td>\n      <td>Porkaew Resort</td>\n    </tr>\n  </tbody>\n</table>\n</div>"
     },
     "metadata": {},
     "execution_count": 7
    }
   ],
   "source": [
    "hotelCityDf = cityResult_df[(cityResult_df['Closest Hotel Name'] !=\"\")]\n",
    "\n",
    "hotelCityDf\n",
    "#hotelName = cityResult_df[\"Closest Hotel Name\"].tolist()\n"
   ]
  },
  {
   "cell_type": "code",
   "execution_count": 8,
   "metadata": {},
   "outputs": [
    {
     "output_type": "display_data",
     "data": {
      "text/plain": "Figure(layout=FigureLayout(height='420px'))",
      "application/vnd.jupyter.widget-view+json": {
       "version_major": 2,
       "version_minor": 0,
       "model_id": "bcf4070b21dd4b6fa06e9ce62c0a21f4"
      }
     },
     "metadata": {}
    }
   ],
   "source": [
    "# Convert Hotel Names to list\n",
    "hotelName = hotelCityDf[\"Closest Hotel Name\"].tolist()\n",
    "# Convert City Names to list\n",
    "hotelCity = hotelCityDf[\"City\"].tolist()\n",
    "# Convert Country to list\n",
    "hotelCountry = hotelCityDf[\"Country\"].tolist()\n",
    "hotelCoordinates = hotelCityDf[[\"Latitude\", \"Longitude\"]].astype(float)\n",
    "\n",
    "\n",
    "# Create hotel symbol layer\n",
    "#hotelLayer = gmaps.symbol_layer(\n",
    " #   hotelCoordinates, fill_color='rgba(0, 150, 0, 0.4)',\n",
    "  #  stroke_color='rgba(0, 0, 150, 0.4)', scale=2,\n",
    "   # info_box_content=[f\"<b>Hotel name:</b> <br> {hotel} <br> <b>City:</b> <br> {city}  <br> <b>Country:</b> <br> {country} \" for hotel,city,country in zip(hotelName,hotelCity,hotelCountry)]\n",
    "#)\n",
    "\n",
    "# Create hotel marker layer\n",
    "hotelMarker = gmaps.marker_layer(hotelCoordinates,info_box_content=[f\"<b>Hotel name:</b> <br> {hotel} <br> <b>City:</b> <br> {city}  <br> <b>Country:</b> <br> {country} \" for hotel,city,country in zip(hotelName,hotelCity,hotelCountry)])\n",
    "\n",
    "# Create a combined map\n",
    "fig = gmaps.figure()\n",
    "\n",
    "fig.add_layer(heat_layer)\n",
    "fig.add_layer(hotelMarker)\n",
    "fig"
   ]
  },
  {
   "cell_type": "code",
   "execution_count": null,
   "metadata": {},
   "outputs": [],
   "source": []
  }
 ]
}